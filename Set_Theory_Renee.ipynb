{
 "cells": [
  {
   "cell_type": "markdown",
   "id": "b1af9df6-3264-457b-b20a-a2b52433f6ae",
   "metadata": {},
   "source": [
    "# 1. Proving Identities"
   ]
  },
  {
   "cell_type": "markdown",
   "id": "5ee6809a-8295-40d8-bd43-c140a83e878c",
   "metadata": {},
   "source": [
    "Given: $A$ and $B$ are sets, $\\exists\\, x$ such that ($x \\in A$ $\\land$ $x \\in B$). Show that:"
   ]
  },
  {
   "cell_type": "markdown",
   "id": "f6015dd8-412d-45ec-b720-61b749494067",
   "metadata": {},
   "source": [
    "- $A \\setminus B = A \\cap B^c$"
   ]
  },
  {
   "cell_type": "markdown",
   "id": "c868e193-9ee2-47d7-a46b-72f671179492",
   "metadata": {},
   "source": [
    "Left side:\n",
    "$$ A \\setminus B = \\{ x \\mid x \\in A \\text{ and } x \\notin B \\} $$\n",
    "Right side:\n",
    "$$ A \\cap B^c = \\{ x \\mid x \\in A \\text{ and } x \\notin B \\} $$\n",
    "\n",
    "$$\\therefore A \\setminus B = A \\cap B^c$$"
   ]
  },
  {
   "cell_type": "markdown",
   "id": "a29c26f6-0043-4edc-983c-597af8d5da99",
   "metadata": {},
   "source": [
    "- $B = (B \\cap A) \\cup (B \\cap A^c)$"
   ]
  },
  {
   "cell_type": "markdown",
   "id": "faf012c1-78c4-4a5a-9ca0-dc5a44adfaee",
   "metadata": {},
   "source": [
    "Right side:\n",
    "\n",
    "$$ (B \\cap A) \\cup (B \\cap A^c) = \\{ x \\mid (x \\in B \\text{ and } x \\in A) \\text{ or } (x \\in B \\text{ and } x \\in A^c) \\} $$\n",
    "\n",
    "$x$ cannot be in both $A$ and $A^c$ at the same time:\n",
    "\n",
    "$$ (B \\cap A) \\cup (B \\cap A^c) = \\{ x \\mid x \\in B \\} = B $$\n",
    "\n",
    "$$\\therefore B = (B \\cap A) \\cup (B \\cap A^c)$$"
   ]
  },
  {
   "cell_type": "markdown",
   "id": "e32bf5ad-4207-40b1-8b72-07be8f9ae4bf",
   "metadata": {},
   "source": [
    "- $B \\setminus A = B \\cap A^c$\n",
    "\n",
    "Left side:\n",
    "\n",
    "\n",
    "$$ B \\setminus A = \\{ x \\mid x \\in B \\text{ and } x \\notin A \\} $$\n",
    "\n",
    "Right side:\n",
    "\n",
    "\n",
    "$$ B \\cap A^c = \\{ x \\mid x \\in B \\text{ and } x \\notin A \\} $$\n",
    "\n",
    "$$\\therefore B \\setminus A = B \\cap A^c$$"
   ]
  },
  {
   "cell_type": "markdown",
   "id": "a83fdb97-6362-4d12-8373-90a73028765f",
   "metadata": {},
   "source": [
    "- $A \\cup B = A \\cup (B \\cap A^c)$\n",
    "\n",
    "Left side:\n",
    "\n",
    "$A \\cup B$ represents the elements in either $A$ or $B$. Since $x$ belongs to both sets, $x$ is included in this union.\n",
    "\n",
    "Right side: \n",
    "\n",
    "$A \\cup (B \\cap A^c)$, we consider two cases:\n",
    "1. If $x \\in A$, then $x$ is included in both $A$ and $A^c$, so it is included in the union.\n",
    "2. If $x \\notin A$, then $x$ must be in $B$ (from the given condition), and since $x \\notin A$, it is also included in the intersection $B \\cap A^c$.\n",
    "\n",
    "In both cases, $x$ is included in $A \\cup (B \\cap A^c)$.\n",
    "\n",
    "$$\\therefore A \\cup B = A \\cup (B \\cap A^c)$$"
   ]
  },
  {
   "cell_type": "markdown",
   "id": "74a6767a-0134-4d3d-a6d2-12345d29b782",
   "metadata": {},
   "source": [
    "- $(\\bigcup_{i=1}^{\\infty} A_i^c)^c = \\bigcap_{i=1}^{\\infty} A_i$\n",
    "\n",
    "Left side:\n",
    "\n",
    "$(\\bigcup_{i=1}^{\\infty} A_i^c)^c$ represents the complement of the union of the complements of sets $A_i$. Using De Morgan's law, this is equivalent to:\n",
    "\n",
    "$$ (\\bigcup_{i=1}^{\\infty} A_i^c)^c = \\bigcap_{i=1}^{\\infty} A_i $$\n",
    "\n",
    "Right side:\n",
    "\n",
    "The right side is the intersection of sets $A_i$.\n",
    "\n",
    "$$\\therefore (\\bigcup_{i=1}^{\\infty} A_i^c)^c = \\bigcap_{i=1}^{\\infty} A_i$$.\n",
    "\n",
    "This completes the proof."
   ]
  },
  {
   "cell_type": "markdown",
   "id": "04210bca-93ed-4728-b7c2-95e5883e9a35",
   "metadata": {},
   "source": [
    "- $|A \\cup B| = |A| + |B| - |A \\cap B|$\n",
    "\n",
    "Let's consider the elements in the union $A \\cup B$. Each element is either in $A$ or in $B$, or both.\n",
    "\n",
    "The total number of elements in $A \\cup B$ can be calculated by adding the number of elements in $A$ to the number of elements in $B$, and then subtracting the number of elements that are counted twice (the intersection $A \\cap B$):\n",
    "\n",
    "$$\n",
    "\\therefore |A \\cup B| = |A| + |B| - |A \\cap B| \n",
    "$$\n",
    "\n"
   ]
  },
  {
   "cell_type": "markdown",
   "id": "69f963dc-924e-448a-9374-6478ef848a43",
   "metadata": {},
   "source": [
    "# 2. Sets and Subsets"
   ]
  },
  {
   "cell_type": "markdown",
   "id": "a0155fca-e9c0-49e7-b059-c558da5ca935",
   "metadata": {},
   "source": [
    "- If $A = \\{2, 3, 4, 5\\}$ and $B = \\{x \\in \\mathbb{N} \\mid x \\text{ is even}\\}$, is $A \\subseteq B$? Show a proof.\n",
    "\n",
    "Let's check if all elements of set A are present in set B:\n",
    "\n",
    "Elements of A: $\\{2, 3, 4, 5\\}$\n",
    "\n",
    "Elements of B: $\\{2, 4, 6, 8, \\ldots\\}$ (even numbers)\n",
    "\n",
    "Not all elements of set A are present in set B.\n",
    " \n",
    "$$\\therefore A \\nsubseteq B$$."
   ]
  },
  {
   "cell_type": "markdown",
   "id": "e5ba5e91-de04-4074-b618-2bf2c5616279",
   "metadata": {},
   "source": [
    "- Let sets $\\textbf{A} = \\{x \\mid x \\in \\mathbb{Z}, 0 \\leq x \\leq 9\\}$,\n",
    "$\\textbf{B} = \\{2, 4, 6, 8\\}$, $\\textbf{C} = \\{1, 3, 5, 7, 9\\}$, and $\\textbf{D} = \\{3, 4, 5\\}$.\n",
    "\n",
    "Find a set $\\textbf{X}$ which will satisfy the following conditions:\n",
    "1. $\\textbf{X}$ and $\\textbf{B}$ are disjoint.\n",
    "2. $\\textbf{X} \\subseteq \\textbf{D}$ but $\\textbf{X} \\nsubseteq \\textbf{B}$.\n",
    "3. $\\textbf{X} \\subseteq \\textbf{A}$ but $\\textbf{X} \\not\\subset \\textbf{C}$.\n",
    "\n",
    "Considering the given conditions, let's evaluate possible choices for set $\\textbf{X}$:\n",
    "\n",
    "1. To satisfy condition 1, we can choose $\\textbf{X} = \\{1,3,5,7,9\\}$.\n",
    "\n",
    "2. To satisfy condition 2, we can choose $\\textbf{X} = \\{3, 5\\}$ since $\\textbf{X} \\subseteq \\textbf{D}$ and $\\textbf{X} \\nsubseteq \\textbf{B}$.\n",
    "\n",
    "3. To satisfy condition 3, we can choose $\\textbf{X} = \\{\\}$ since $\\textbf{X} \\subseteq \\textbf{A}$ and $\\textbf{X} \\not\\subset \\textbf{C}$.\n",
    "\n",
    "In conclusion, no one set satisfies all the conditions.\n"
   ]
  },
  {
   "cell_type": "markdown",
   "id": "e7f500f0-a424-456f-995e-b58e64744440",
   "metadata": {},
   "source": [
    "# 3. Set Operations\n"
   ]
  },
  {
   "cell_type": "markdown",
   "id": "d3e11a49-3e48-42c7-836a-7831d150948b",
   "metadata": {},
   "source": [
    "Given:\n",
    "\n",
    "$U = \\{1, 2, 3, 4, 5\\}$\n",
    "\n",
    "$A = \\{1, 2, 3, 4, 5\\}$\n",
    "\n",
    "$B = \\{4, 5, 6, 7\\}$\n",
    "\n",
    "$C = \\{5, 6, 7, 8, 9\\}$\n",
    "\n",
    "$D = \\{1, 3, 5, 7, 9\\}$\n",
    "\n",
    "$E = \\{2, 4, 6, 8\\}$\n",
    "\n",
    "$F = \\{1, 5, 9\\}$\n"
   ]
  },
  {
   "cell_type": "markdown",
   "id": "004ce438-bd6e-4be8-8802-317b8cc45917",
   "metadata": {},
   "source": [
    "- $C \\oplus D$\n",
    "\n",
    "Manual solution:\n",
    "\n",
    "  Given the sets:\n",
    "- $C = \\{5, 6, 7, 8, 9\\}$\n",
    "- $D = \\{1, 3, 5, 7, 9\\}$\n",
    "\n",
    "We need to identify the elements that are in either $C$ or $D$, but not in their intersection.\n",
    "\n",
    "The intersection of $C$ and $D$ is $\\{5, 7, 9\\}$.\n",
    "\n",
    "The elements that are in either $C$ or $D$ but not in their intersection are $\\{1, 3, 6, 8\\}$, as they are in $C$ or $D$, but not in $\\{5, 7, 9\\}$.\n",
    "\n",
    "$$\\therefore C \\oplus D = \\{1, 3, 6, 8\\}$$\n",
    "\n",
    "Pythonic solution:"
   ]
  },
  {
   "cell_type": "code",
   "execution_count": 61,
   "id": "9310923d-d3ef-4a9b-b6ed-add608e7b22b",
   "metadata": {},
   "outputs": [
    {
     "name": "stdout",
     "output_type": "stream",
     "text": [
      "Symmetric Difference (C ⊕ D): {1, 3, 6, 8}\n"
     ]
    }
   ],
   "source": [
    "C = {5, 6, 7, 8, 9}\n",
    "D = {1, 3, 5, 7, 9}\n",
    "\n",
    "symmetric_difference = C.symmetric_difference(D)\n",
    "\n",
    "print(\"Symmetric Difference (C ⊕ D):\", symmetric_difference)"
   ]
  },
  {
   "cell_type": "markdown",
   "id": "3d7c09ba-e281-4fb9-aab2-42deb97d6f22",
   "metadata": {},
   "source": [
    "-  $A \\setminus B$\n",
    "  \n",
    "  Manual solution:\n",
    "\n",
    "We need to find the set of elements that are in $A$ but not in $B$.\n",
    "\n",
    "$$A \\setminus B = \\{x \\mid x \\in A \\text{ and } x \\notin B\\}$$\n",
    "\n",
    "$$A = \\{1, 2, 3, 4, 5\\}$$\n",
    "$$B = \\{4, 5, 6, 7\\}$$\n",
    "\n",
    "$$\\therefore A \\setminus B = \\{1, 2, 3\\}$$\n",
    "\n",
    "Pythonic solution:"
   ]
  },
  {
   "cell_type": "code",
   "execution_count": 62,
   "id": "75f7912e-e4bd-4fe6-bc06-20009a09f04a",
   "metadata": {},
   "outputs": [
    {
     "name": "stdout",
     "output_type": "stream",
     "text": [
      "A \\ B = {1, 2, 3}\n"
     ]
    }
   ],
   "source": [
    "A = {1, 2, 3, 4, 5}\n",
    "B = {4, 5, 6, 7}\n",
    "\n",
    "A_minus_B = A - B\n",
    "\n",
    "print(\"A \\\\ B =\", A_minus_B)"
   ]
  },
  {
   "cell_type": "markdown",
   "id": "7ac0a4f3-2ee0-4f0f-8f7b-e106a5eaec3b",
   "metadata": {},
   "source": [
    "- $B \\setminus A$\n",
    "  \n",
    "  Manual solution:\n",
    "\n",
    "  We need to find the set of elements that are in $B$ but not in $A$.\n",
    "  \n",
    "$$A = \\{1, 2, 3, 4, 5\\}$$\n",
    "\n",
    "$$B = \\{4, 5, 6, 7\\}$$\n",
    "\n",
    "$$B \\setminus A = B - A = \\{6, 7\\}$$\n",
    "\n",
    "$$\\therefore B \\setminus A = \\{6, 7\\}$$\n",
    "\n",
    "Pythonic solution:"
   ]
  },
  {
   "cell_type": "code",
   "execution_count": 63,
   "id": "c7419121-34ba-4962-8277-4afd465bff0f",
   "metadata": {},
   "outputs": [
    {
     "name": "stdout",
     "output_type": "stream",
     "text": [
      "Result of B \\ A: {6, 7}\n"
     ]
    }
   ],
   "source": [
    "A = {1, 2, 3, 4, 5}\n",
    "B = {4, 5, 6, 7}\n",
    "\n",
    "result = B - A\n",
    "\n",
    "print(\"Result of B \\\\ A:\", result)"
   ]
  },
  {
   "cell_type": "markdown",
   "id": "4568b9f9-d1f8-44e6-a671-a78b7c58cd47",
   "metadata": {},
   "source": [
    "- $E \\oplus F$\n",
    "  \n",
    "  Manual solution:\n",
    "\n",
    "  Given:\n",
    "\n",
    "  - $E = \\{2, 4, 6, 8\\}$\n",
    "  - $F = \\{1, 5, 9\\}$\n",
    "  \n",
    "\\begin{align*}\n",
    "E \\oplus F &= (E \\cup F) \\setminus (E \\cap F) \\\\\n",
    "           &= \\{2, 4, 6, 8\\} \\setminus \\{1, 5, 9\\} \\\\\n",
    "           &= \\{2, 4, 6, 8\\}\n",
    "\\end{align*}\n",
    "\n",
    "$$\\therefore E \\oplus F = \\{2, 4, 6, 8\\}$$\n",
    "\n",
    "Pythonic solution:\n"
   ]
  },
  {
   "cell_type": "code",
   "execution_count": 64,
   "id": "51d527d0-1f0a-4982-8f21-ad4aaac741bb",
   "metadata": {},
   "outputs": [
    {
     "name": "stdout",
     "output_type": "stream",
     "text": [
      "Symmetric Difference (E ⊕ F): {8, 2, 4, 6}\n"
     ]
    }
   ],
   "source": [
    "E = {2, 4, 6, 8}\n",
    "F = {1, 5, 9}\n",
    "\n",
    "symmetric_difference = E - F\n",
    "\n",
    "print(\"Symmetric Difference (E ⊕ F):\", symmetric_difference)"
   ]
  },
  {
   "cell_type": "markdown",
   "id": "9ae17034-f6c5-4a45-96b6-0a86527a5296",
   "metadata": {},
   "source": [
    "# 4. Finite Sets and The Counting Principles"
   ]
  },
  {
   "cell_type": "markdown",
   "id": "7e4cfcd5-813b-4beb-894b-dd09e3e09f46",
   "metadata": {},
   "source": [
    "In a Survey of 120 People, it was found that:\n",
    "\n",
    " - 65 read Newsweek Magazine\n",
    "   \n",
    " - 45 read Times Magazine\n",
    "   \n",
    " - 42 read Fortune Magazine\n",
    "   \n",
    " - 20 read Both Newsweek and Time\n",
    "   \n",
    " - 25 read both Newsweek and Fortune\n",
    "   \n",
    " - 15 read both Time and Fortune\n",
    "   \n",
    " - 8 read all three magazines\n",
    "   \n",
    "With these information do the following:\n",
    "\n",
    "1. Draw the venn diagram using python.\n",
    "2. Find the number of people who read at \"least one\" of the three magazines.\n",
    "3. Find the number of people who read exactly one magazine."
   ]
  },
  {
   "cell_type": "code",
   "execution_count": 65,
   "id": "53e4bc28-097b-4c74-bfec-b1e505cc2004",
   "metadata": {},
   "outputs": [
    {
     "data": {
      "image/png": "[encoded data removed]",
      "text/plain": [
       "<Figure size 640x480 with 1 Axes>"
      ]
     },
     "metadata": {},
     "output_type": "display_data"
    },
    {
     "name": "stdout",
     "output_type": "stream",
     "text": [
      "2. Number of people who read at least one magazine: 100\n",
      "3. Number of people who read exactly one magazine: 56\n"
     ]
    }
   ],
   "source": [
    "import matplotlib.pyplot as plt\n",
    "from matplotlib_venn import venn3\n",
    "\n",
    "venn = venn3(subsets=(65, 45, 20, 42, 25, 15, 8), set_labels=('Newsweek', 'Time', 'Fortune'))\n",
    "plt.title(\"1. Venn Diagram of Magazine Readers\")\n",
    "plt.show()\n",
    "\n",
    "total_readers = 120\n",
    "at_least_one = 65 + 45 + 42 - 20 - 25 - 15 + 8\n",
    "print(\"2. Number of people who read at least one magazine:\", at_least_one)\n",
    "\n",
    "exactly_one = 65 + 45 + 42 - 2 * 20 - 2 * 25 - 2 * 15 + 3 * 8\n",
    "print(\"3. Number of people who read exactly one magazine:\", exactly_one)"
   ]
  },
  {
   "cell_type": "markdown",
   "id": "c95fed06-8a54-49f5-8ed4-24a06e04b88a",
   "metadata": {},
   "source": [
    "In a survey of 25 new cars being sold at a local auto dealer was conducted to see which of the three popular options: air-conditioning, denoted as A; radio, denoted as R; and power windows, denoted as W were installed. The survey found that:\n",
    "\n",
    "    - 15 had A. HINT: The condition said \"had an A\" AND NOT \"had an A only\n",
    "    \n",
    "    - 12 had R. HINT: The condition said \"had a R\" AND NOT \"had a R only\"\n",
    "    \n",
    "    - 11 had W. HINT: The condition said \"had a W\" AND NOT \"had a W only\"\n",
    "    \n",
    "    - 5 had A and W.\n",
    "    \n",
    "    - 9 had A and R.\n",
    "    \n",
    "    - 4 had R and W.\n",
    "    \n",
    "    - Only 3 hace the three options.\n",
    "    \n",
    "    With these information do the following:\n",
    "    \n",
    "    1. Draw the venn diagram using python.\n",
    "    \n",
    "    2. Find the number of cars with W only.\n",
    "    \n",
    "    3. Find the number of cars with A only.\n",
    "    \n",
    "    4. Find the number of cars with R only.\n",
    "    \n",
    "    5. Find the number of cars with both R and W but not A.\n",
    "    \n",
    "    6. Find the number of cars with both A and R but not W.\n",
    "    \n",
    "    7. Find the number of cars with only one of the options.\n",
    "    \n",
    "    8. Find the number of cars with at least one option.\n",
    "   \n",
    "    9. Find the number of cars with none of the Options."
   ]
  },
  {
   "cell_type": "code",
   "execution_count": 66,
   "id": "736f75d0-4a1e-46ab-895b-83938e352548",
   "metadata": {},
   "outputs": [
    {
     "data": {
      "image/png": "[encoded data removed]",
      "text/plain": [
       "<Figure size 640x480 with 1 Axes>"
      ]
     },
     "metadata": {},
     "output_type": "display_data"
    },
    {
     "name": "stdout",
     "output_type": "stream",
     "text": [
      "2. Number of cars with W only: 5\n",
      "3. Number of cars with A only: 4\n",
      "4. Number of cars with R only: 2\n",
      "5. Number of cars with both R and W but not A: 1\n",
      "6. Number of cars with both A and R but not W: 6\n",
      "7. Number of cars with only one of the options: 11\n",
      "8. Number of cars with at least one option: 23\n",
      "9. Number of cars with none of the Options: 2\n"
     ]
    }
   ],
   "source": [
    "from matplotlib_venn import venn3\n",
    "import matplotlib.pyplot as plt\n",
    "\n",
    "# Given data (same as before)\n",
    "total_cars = 25\n",
    "had_A = 15\n",
    "had_R = 12\n",
    "had_W = 11\n",
    "had_A_and_W = 5\n",
    "had_A_and_R = 9\n",
    "had_R_and_W = 4\n",
    "had_all_options = 3\n",
    "\n",
    "# Calculate various values (including A_and_W_count)\n",
    "had_A_and_W_count = had_A_and_W - had_all_options  # Calculate cars with both A and W, but not R\n",
    "had_only_A_count = had_A - had_A_and_W - had_A_and_R + had_all_options\n",
    "had_only_R_count = had_R - had_A_and_R - had_R_and_W + had_all_options\n",
    "had_only_W_count = had_W - had_A_and_W - had_R_and_W + had_all_options\n",
    "had_R_and_W_not_A_count = had_R_and_W - had_all_options\n",
    "had_A_and_R_not_W_count = had_A_and_R - had_all_options\n",
    "had_only_one_option = had_only_A_count + had_only_R_count + had_only_W_count\n",
    "had_at_least_one_option = had_A + had_W + had_R - had_A_and_W - had_A_and_R - had_R_and_W + had_all_options\n",
    "had_none_of_the_options = total_cars - had_at_least_one_option\n",
    "\n",
    "# Create Venn diagram (same as before)\n",
    "venn = venn3(subsets=(had_only_A_count, had_only_R_count, had_A_and_R_not_W_count, had_only_W_count,\n",
    "                      had_A_and_W_count, had_R_and_W_not_A_count, had_all_options),\n",
    "             set_labels=('A', 'R', 'W'))\n",
    "\n",
    "# Show the diagram (same as before)\n",
    "plt.title(\"1. Venn Diagram of Cars\")\n",
    "plt.show()\n",
    "\n",
    "# Print the calculated values (same as before)\n",
    "print(\"2. Number of cars with W only:\", had_only_W_count)\n",
    "print(\"3. Number of cars with A only:\", had_only_A_count)\n",
    "print(\"4. Number of cars with R only:\", had_only_R_count)\n",
    "print(\"5. Number of cars with both R and W but not A:\", had_R_and_W_not_A_count)\n",
    "print(\"6. Number of cars with both A and R but not W:\", had_A_and_R_not_W_count)\n",
    "print(\"7. Number of cars with only one of the options:\", had_only_one_option)\n",
    "print(\"8. Number of cars with at least one option:\", had_at_least_one_option)\n",
    "print(\"9. Number of cars with none of the Options:\", had_none_of_the_options)"
   ]
  },
  {
   "cell_type": "code",
   "execution_count": null,
   "id": "110d6c35-2ebc-4e6e-b8dd-ba8db4d0c728",
   "metadata": {},
   "outputs": [],
   "source": []
  }
 ],
 "metadata": {
  "kernelspec": {
   "display_name": "Python 3 (ipykernel)",
   "language": "python",
   "name": "python3"
  },
  "language_info": {
   "codemirror_mode": {
    "name": "ipython",
    "version": 3
   },
   "file_extension": ".py",
   "mimetype": "text/x-python",
   "name": "python",
   "nbconvert_exporter": "python",
   "pygments_lexer": "ipython3",
   "version": "3.11.5"
  }
 },
 "nbformat": 4,
 "nbformat_minor": 5
}
